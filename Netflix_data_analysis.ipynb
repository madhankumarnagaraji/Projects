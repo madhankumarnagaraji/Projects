{
 "cells": [
  {
   "cell_type": "markdown",
   "metadata": {
    "id": "Zz9joJoRI_iM"
   },
   "source": [
    "# Netflix Data EDA :"
   ]
  },
  {
   "cell_type": "markdown",
   "metadata": {
    "id": "5WkpGLdnz9yk"
   },
   "source": [
    "Nowadays, it's became a habit to binge watching contents on weekends in various streaming platforms such as Netflix, Prime Video, etc.,\n",
    "This Exploratory Data Analysis is on Netflix Shows and Movies' data. The dataset which I am using in this notebook was downloaded from Kaggle [here](https://www.kaggle.com/shivamb/netflix-shows).\n",
    "\n",
    "Description of few variables :\n",
    "- **type**         - type of the content(Tv show/Movie)\n",
    "- **date_added**   - date on which the content was released on Netflix\n",
    "- **release_year** - year on which the content was released\n",
    "- **rating**       - certificate of the content\n",
    "- **listed_in**    - Content's genere"
   ]
  },
  {
   "cell_type": "markdown",
   "metadata": {
    "id": "aGEiVaX8JJbj"
   },
   "source": [
    "### **Importing Required Libraries**"
   ]
  },
  {
   "cell_type": "code",
   "execution_count": 2,
   "metadata": {
    "executionInfo": {
     "elapsed": 385,
     "status": "ok",
     "timestamp": 1630409117933,
     "user": {
      "displayName": "Madhan Kumar",
      "photoUrl": "https://lh3.googleusercontent.com/a-/AOh14Ggl_slAEHKVMGQQJABBM1Z9XvAz_EJAJ_tM30Vzsi4=s64",
      "userId": "17555349262073666022"
     },
     "user_tz": -330
    },
    "id": "nCCEy4QZto4i"
   },
   "outputs": [],
   "source": [
    "import numpy as np\n",
    "import pandas as pd\n",
    "import matplotlib.pyplot as plt\n",
    "import seaborn as sns\n",
    "%matplotlib inline\n",
    "import warnings\n",
    "warnings.filterwarnings('ignore')"
   ]
  },
  {
   "cell_type": "markdown",
   "metadata": {
    "id": "qfZtJp5IJtAv"
   },
   "source": [
    "### **Downloading the Dataset**"
   ]
  },
  {
   "cell_type": "code",
   "execution_count": 3,
   "metadata": {
    "colab": {
     "base_uri": "https://localhost:8080/"
    },
    "executionInfo": {
     "elapsed": 12,
     "status": "ok",
     "timestamp": 1630409118535,
     "user": {
      "displayName": "Madhan Kumar",
      "photoUrl": "https://lh3.googleusercontent.com/a-/AOh14Ggl_slAEHKVMGQQJABBM1Z9XvAz_EJAJ_tM30Vzsi4=s64",
      "userId": "17555349262073666022"
     },
     "user_tz": -330
    },
    "id": "rp9UoEgtHBme",
    "outputId": "cb6532fc-d257-407c-a43e-62b08604a467"
   },
   "outputs": [
    {
     "data": {
      "text/plain": [
       "('data.csv', <http.client.HTTPMessage at 0x7f882b0e1510>)"
      ]
     },
     "execution_count": 3,
     "metadata": {},
     "output_type": "execute_result"
    }
   ],
   "source": [
    "# downloading dataset\n",
    "\n",
    "from urllib.request import urlretrieve\n",
    "\n",
    "urlretrieve(\"https://raw.githubusercontent.com/madhankumarnagaraji/Datasets/main/netflix_titles.csv\", \"data.csv\")"
   ]
  },
  {
   "cell_type": "code",
   "execution_count": 4,
   "metadata": {
    "executionInfo": {
     "elapsed": 482,
     "status": "ok",
     "timestamp": 1630409119012,
     "user": {
      "displayName": "Madhan Kumar",
      "photoUrl": "https://lh3.googleusercontent.com/a-/AOh14Ggl_slAEHKVMGQQJABBM1Z9XvAz_EJAJ_tM30Vzsi4=s64",
      "userId": "17555349262073666022"
     },
     "user_tz": -330
    },
    "id": "beGJBbqluwj7"
   },
   "outputs": [],
   "source": [
    "# reading data using pandas\n",
    "df = pd.read_csv('data.csv')"
   ]
  },
  {
   "cell_type": "markdown",
   "metadata": {
    "id": "ljSq2bw3J_tH"
   },
   "source": [
    "### **Understanding Data**"
   ]
  },
  {
   "cell_type": "code",
   "execution_count": 5,
   "metadata": {
    "colab": {
     "base_uri": "https://localhost:8080/",
     "height": 374
    },
    "executionInfo": {
     "elapsed": 73,
     "status": "ok",
     "timestamp": 1630409119015,
     "user": {
      "displayName": "Madhan Kumar",
      "photoUrl": "https://lh3.googleusercontent.com/a-/AOh14Ggl_slAEHKVMGQQJABBM1Z9XvAz_EJAJ_tM30Vzsi4=s64",
      "userId": "17555349262073666022"
     },
     "user_tz": -330
    },
    "id": "iPEnGDoXKF8u",
    "outputId": "d558e8c3-e65c-43ab-c87f-4fb94a34a8a3"
   },
   "outputs": [
    {
     "data": {
      "text/html": [
       "<div>\n",
       "<style scoped>\n",
       "    .dataframe tbody tr th:only-of-type {\n",
       "        vertical-align: middle;\n",
       "    }\n",
       "\n",
       "    .dataframe tbody tr th {\n",
       "        vertical-align: top;\n",
       "    }\n",
       "\n",
       "    .dataframe thead th {\n",
       "        text-align: right;\n",
       "    }\n",
       "</style>\n",
       "<table border=\"1\" class=\"dataframe\">\n",
       "  <thead>\n",
       "    <tr style=\"text-align: right;\">\n",
       "      <th></th>\n",
       "      <th>show_id</th>\n",
       "      <th>type</th>\n",
       "      <th>title</th>\n",
       "      <th>director</th>\n",
       "      <th>cast</th>\n",
       "      <th>country</th>\n",
       "      <th>date_added</th>\n",
       "      <th>release_year</th>\n",
       "      <th>rating</th>\n",
       "      <th>duration</th>\n",
       "      <th>listed_in</th>\n",
       "      <th>description</th>\n",
       "    </tr>\n",
       "  </thead>\n",
       "  <tbody>\n",
       "    <tr>\n",
       "      <th>0</th>\n",
       "      <td>s1</td>\n",
       "      <td>TV Show</td>\n",
       "      <td>3%</td>\n",
       "      <td>NaN</td>\n",
       "      <td>João Miguel, Bianca Comparato, Michel Gomes, R...</td>\n",
       "      <td>Brazil</td>\n",
       "      <td>August 14, 2020</td>\n",
       "      <td>2020</td>\n",
       "      <td>TV-MA</td>\n",
       "      <td>4 Seasons</td>\n",
       "      <td>International TV Shows, TV Dramas, TV Sci-Fi &amp;...</td>\n",
       "      <td>In a future where the elite inhabit an island ...</td>\n",
       "    </tr>\n",
       "    <tr>\n",
       "      <th>1</th>\n",
       "      <td>s2</td>\n",
       "      <td>Movie</td>\n",
       "      <td>7:19</td>\n",
       "      <td>Jorge Michel Grau</td>\n",
       "      <td>Demián Bichir, Héctor Bonilla, Oscar Serrano, ...</td>\n",
       "      <td>Mexico</td>\n",
       "      <td>December 23, 2016</td>\n",
       "      <td>2016</td>\n",
       "      <td>TV-MA</td>\n",
       "      <td>93 min</td>\n",
       "      <td>Dramas, International Movies</td>\n",
       "      <td>After a devastating earthquake hits Mexico Cit...</td>\n",
       "    </tr>\n",
       "    <tr>\n",
       "      <th>2</th>\n",
       "      <td>s3</td>\n",
       "      <td>Movie</td>\n",
       "      <td>23:59</td>\n",
       "      <td>Gilbert Chan</td>\n",
       "      <td>Tedd Chan, Stella Chung, Henley Hii, Lawrence ...</td>\n",
       "      <td>Singapore</td>\n",
       "      <td>December 20, 2018</td>\n",
       "      <td>2011</td>\n",
       "      <td>R</td>\n",
       "      <td>78 min</td>\n",
       "      <td>Horror Movies, International Movies</td>\n",
       "      <td>When an army recruit is found dead, his fellow...</td>\n",
       "    </tr>\n",
       "    <tr>\n",
       "      <th>3</th>\n",
       "      <td>s4</td>\n",
       "      <td>Movie</td>\n",
       "      <td>9</td>\n",
       "      <td>Shane Acker</td>\n",
       "      <td>Elijah Wood, John C. Reilly, Jennifer Connelly...</td>\n",
       "      <td>United States</td>\n",
       "      <td>November 16, 2017</td>\n",
       "      <td>2009</td>\n",
       "      <td>PG-13</td>\n",
       "      <td>80 min</td>\n",
       "      <td>Action &amp; Adventure, Independent Movies, Sci-Fi...</td>\n",
       "      <td>In a postapocalyptic world, rag-doll robots hi...</td>\n",
       "    </tr>\n",
       "    <tr>\n",
       "      <th>4</th>\n",
       "      <td>s5</td>\n",
       "      <td>Movie</td>\n",
       "      <td>21</td>\n",
       "      <td>Robert Luketic</td>\n",
       "      <td>Jim Sturgess, Kevin Spacey, Kate Bosworth, Aar...</td>\n",
       "      <td>United States</td>\n",
       "      <td>January 1, 2020</td>\n",
       "      <td>2008</td>\n",
       "      <td>PG-13</td>\n",
       "      <td>123 min</td>\n",
       "      <td>Dramas</td>\n",
       "      <td>A brilliant group of students become card-coun...</td>\n",
       "    </tr>\n",
       "  </tbody>\n",
       "</table>\n",
       "</div>"
      ],
      "text/plain": [
       "  show_id  ...                                        description\n",
       "0      s1  ...  In a future where the elite inhabit an island ...\n",
       "1      s2  ...  After a devastating earthquake hits Mexico Cit...\n",
       "2      s3  ...  When an army recruit is found dead, his fellow...\n",
       "3      s4  ...  In a postapocalyptic world, rag-doll robots hi...\n",
       "4      s5  ...  A brilliant group of students become card-coun...\n",
       "\n",
       "[5 rows x 12 columns]"
      ]
     },
     "execution_count": 5,
     "metadata": {},
     "output_type": "execute_result"
    }
   ],
   "source": [
    "df.head() #gives the first 5 rows"
   ]
  },
  {
   "cell_type": "code",
   "execution_count": 6,
   "metadata": {
    "colab": {
     "base_uri": "https://localhost:8080/",
     "height": 425
    },
    "executionInfo": {
     "elapsed": 71,
     "status": "ok",
     "timestamp": 1630409119017,
     "user": {
      "displayName": "Madhan Kumar",
      "photoUrl": "https://lh3.googleusercontent.com/a-/AOh14Ggl_slAEHKVMGQQJABBM1Z9XvAz_EJAJ_tM30Vzsi4=s64",
      "userId": "17555349262073666022"
     },
     "user_tz": -330
    },
    "id": "hRcdZpV_KFye",
    "outputId": "4de8243b-28ad-4ddc-91e4-a5fc11d49e03"
   },
   "outputs": [
    {
     "data": {
      "text/html": [
       "<div>\n",
       "<style scoped>\n",
       "    .dataframe tbody tr th:only-of-type {\n",
       "        vertical-align: middle;\n",
       "    }\n",
       "\n",
       "    .dataframe tbody tr th {\n",
       "        vertical-align: top;\n",
       "    }\n",
       "\n",
       "    .dataframe thead th {\n",
       "        text-align: right;\n",
       "    }\n",
       "</style>\n",
       "<table border=\"1\" class=\"dataframe\">\n",
       "  <thead>\n",
       "    <tr style=\"text-align: right;\">\n",
       "      <th></th>\n",
       "      <th>show_id</th>\n",
       "      <th>type</th>\n",
       "      <th>title</th>\n",
       "      <th>director</th>\n",
       "      <th>cast</th>\n",
       "      <th>country</th>\n",
       "      <th>date_added</th>\n",
       "      <th>release_year</th>\n",
       "      <th>rating</th>\n",
       "      <th>duration</th>\n",
       "      <th>listed_in</th>\n",
       "      <th>description</th>\n",
       "    </tr>\n",
       "  </thead>\n",
       "  <tbody>\n",
       "    <tr>\n",
       "      <th>7782</th>\n",
       "      <td>s7783</td>\n",
       "      <td>Movie</td>\n",
       "      <td>Zozo</td>\n",
       "      <td>Josef Fares</td>\n",
       "      <td>Imad Creidi, Antoinette Turk, Elias Gergi, Car...</td>\n",
       "      <td>Sweden, Czech Republic, United Kingdom, Denmar...</td>\n",
       "      <td>October 19, 2020</td>\n",
       "      <td>2005</td>\n",
       "      <td>TV-MA</td>\n",
       "      <td>99 min</td>\n",
       "      <td>Dramas, International Movies</td>\n",
       "      <td>When Lebanon's Civil War deprives Zozo of his ...</td>\n",
       "    </tr>\n",
       "    <tr>\n",
       "      <th>7783</th>\n",
       "      <td>s7784</td>\n",
       "      <td>Movie</td>\n",
       "      <td>Zubaan</td>\n",
       "      <td>Mozez Singh</td>\n",
       "      <td>Vicky Kaushal, Sarah-Jane Dias, Raaghav Chanan...</td>\n",
       "      <td>India</td>\n",
       "      <td>March 2, 2019</td>\n",
       "      <td>2015</td>\n",
       "      <td>TV-14</td>\n",
       "      <td>111 min</td>\n",
       "      <td>Dramas, International Movies, Music &amp; Musicals</td>\n",
       "      <td>A scrappy but poor boy worms his way into a ty...</td>\n",
       "    </tr>\n",
       "    <tr>\n",
       "      <th>7784</th>\n",
       "      <td>s7785</td>\n",
       "      <td>Movie</td>\n",
       "      <td>Zulu Man in Japan</td>\n",
       "      <td>NaN</td>\n",
       "      <td>Nasty C</td>\n",
       "      <td>NaN</td>\n",
       "      <td>September 25, 2020</td>\n",
       "      <td>2019</td>\n",
       "      <td>TV-MA</td>\n",
       "      <td>44 min</td>\n",
       "      <td>Documentaries, International Movies, Music &amp; M...</td>\n",
       "      <td>In this documentary, South African rapper Nast...</td>\n",
       "    </tr>\n",
       "    <tr>\n",
       "      <th>7785</th>\n",
       "      <td>s7786</td>\n",
       "      <td>TV Show</td>\n",
       "      <td>Zumbo's Just Desserts</td>\n",
       "      <td>NaN</td>\n",
       "      <td>Adriano Zumbo, Rachel Khoo</td>\n",
       "      <td>Australia</td>\n",
       "      <td>October 31, 2020</td>\n",
       "      <td>2019</td>\n",
       "      <td>TV-PG</td>\n",
       "      <td>1 Season</td>\n",
       "      <td>International TV Shows, Reality TV</td>\n",
       "      <td>Dessert wizard Adriano Zumbo looks for the nex...</td>\n",
       "    </tr>\n",
       "    <tr>\n",
       "      <th>7786</th>\n",
       "      <td>s7787</td>\n",
       "      <td>Movie</td>\n",
       "      <td>ZZ TOP: THAT LITTLE OL' BAND FROM TEXAS</td>\n",
       "      <td>Sam Dunn</td>\n",
       "      <td>NaN</td>\n",
       "      <td>United Kingdom, Canada, United States</td>\n",
       "      <td>March 1, 2020</td>\n",
       "      <td>2019</td>\n",
       "      <td>TV-MA</td>\n",
       "      <td>90 min</td>\n",
       "      <td>Documentaries, Music &amp; Musicals</td>\n",
       "      <td>This documentary delves into the mystique behi...</td>\n",
       "    </tr>\n",
       "  </tbody>\n",
       "</table>\n",
       "</div>"
      ],
      "text/plain": [
       "     show_id  ...                                        description\n",
       "7782   s7783  ...  When Lebanon's Civil War deprives Zozo of his ...\n",
       "7783   s7784  ...  A scrappy but poor boy worms his way into a ty...\n",
       "7784   s7785  ...  In this documentary, South African rapper Nast...\n",
       "7785   s7786  ...  Dessert wizard Adriano Zumbo looks for the nex...\n",
       "7786   s7787  ...  This documentary delves into the mystique behi...\n",
       "\n",
       "[5 rows x 12 columns]"
      ]
     },
     "execution_count": 6,
     "metadata": {},
     "output_type": "execute_result"
    }
   ],
   "source": [
    "df.tail() # gives the last 5 rows"
   ]
  },
  {
   "cell_type": "markdown",
   "metadata": {
    "id": "btBgmtLCwLsA"
   },
   "source": [
    "***Key Takeaway :*** \n",
    "\n",
    "For the year 2021, the data is available only for the month of January."
   ]
  },
  {
   "cell_type": "code",
   "execution_count": 7,
   "metadata": {
    "colab": {
     "base_uri": "https://localhost:8080/"
    },
    "executionInfo": {
     "elapsed": 70,
     "status": "ok",
     "timestamp": 1630409119018,
     "user": {
      "displayName": "Madhan Kumar",
      "photoUrl": "https://lh3.googleusercontent.com/a-/AOh14Ggl_slAEHKVMGQQJABBM1Z9XvAz_EJAJ_tM30Vzsi4=s64",
      "userId": "17555349262073666022"
     },
     "user_tz": -330
    },
    "id": "yVdBq9LCuqin",
    "outputId": "ce5d6110-6825-4a9a-9aef-992a97a7e726"
   },
   "outputs": [
    {
     "data": {
      "text/plain": [
       "(7787, 12)"
      ]
     },
     "execution_count": 7,
     "metadata": {},
     "output_type": "execute_result"
    }
   ],
   "source": [
    "df.shape # gives no. of rows and columns"
   ]
  },
  {
   "cell_type": "code",
   "execution_count": 8,
   "metadata": {
    "colab": {
     "base_uri": "https://localhost:8080/"
    },
    "executionInfo": {
     "elapsed": 62,
     "status": "ok",
     "timestamp": 1630409119021,
     "user": {
      "displayName": "Madhan Kumar",
      "photoUrl": "https://lh3.googleusercontent.com/a-/AOh14Ggl_slAEHKVMGQQJABBM1Z9XvAz_EJAJ_tM30Vzsi4=s64",
      "userId": "17555349262073666022"
     },
     "user_tz": -330
    },
    "id": "DrTt9OoWukMX",
    "outputId": "fd4a64e8-6b62-42bd-e8b5-d2396ccd0b9e"
   },
   "outputs": [
    {
     "name": "stdout",
     "output_type": "stream",
     "text": [
      "<class 'pandas.core.frame.DataFrame'>\n",
      "RangeIndex: 7787 entries, 0 to 7786\n",
      "Data columns (total 12 columns):\n",
      " #   Column        Non-Null Count  Dtype \n",
      "---  ------        --------------  ----- \n",
      " 0   show_id       7787 non-null   object\n",
      " 1   type          7787 non-null   object\n",
      " 2   title         7787 non-null   object\n",
      " 3   director      5398 non-null   object\n",
      " 4   cast          7069 non-null   object\n",
      " 5   country       7280 non-null   object\n",
      " 6   date_added    7777 non-null   object\n",
      " 7   release_year  7787 non-null   int64 \n",
      " 8   rating        7780 non-null   object\n",
      " 9   duration      7787 non-null   object\n",
      " 10  listed_in     7787 non-null   object\n",
      " 11  description   7787 non-null   object\n",
      "dtypes: int64(1), object(11)\n",
      "memory usage: 730.2+ KB\n"
     ]
    }
   ],
   "source": [
    "df.info() # gives info about NA values and datatypes"
   ]
  },
  {
   "cell_type": "markdown",
   "metadata": {
    "id": "Zu1_HURf5X6A"
   },
   "source": [
    "## **Data Preparation and Cleaning**"
   ]
  },
  {
   "cell_type": "markdown",
   "metadata": {
    "id": "pEmFZhn1KU_m"
   },
   "source": [
    "### **Descriptive Statistics**"
   ]
  },
  {
   "cell_type": "code",
   "execution_count": 9,
   "metadata": {
    "colab": {
     "base_uri": "https://localhost:8080/",
     "height": 297
    },
    "executionInfo": {
     "elapsed": 57,
     "status": "ok",
     "timestamp": 1630409119024,
     "user": {
      "displayName": "Madhan Kumar",
      "photoUrl": "https://lh3.googleusercontent.com/a-/AOh14Ggl_slAEHKVMGQQJABBM1Z9XvAz_EJAJ_tM30Vzsi4=s64",
      "userId": "17555349262073666022"
     },
     "user_tz": -330
    },
    "id": "Onsw1gwrKSZ1",
    "outputId": "024d7110-3b8e-4cf1-bc07-26e6918c9472"
   },
   "outputs": [
    {
     "data": {
      "text/html": [
       "<div>\n",
       "<style scoped>\n",
       "    .dataframe tbody tr th:only-of-type {\n",
       "        vertical-align: middle;\n",
       "    }\n",
       "\n",
       "    .dataframe tbody tr th {\n",
       "        vertical-align: top;\n",
       "    }\n",
       "\n",
       "    .dataframe thead th {\n",
       "        text-align: right;\n",
       "    }\n",
       "</style>\n",
       "<table border=\"1\" class=\"dataframe\">\n",
       "  <thead>\n",
       "    <tr style=\"text-align: right;\">\n",
       "      <th></th>\n",
       "      <th>release_year</th>\n",
       "    </tr>\n",
       "  </thead>\n",
       "  <tbody>\n",
       "    <tr>\n",
       "      <th>count</th>\n",
       "      <td>7787.000000</td>\n",
       "    </tr>\n",
       "    <tr>\n",
       "      <th>mean</th>\n",
       "      <td>2013.932580</td>\n",
       "    </tr>\n",
       "    <tr>\n",
       "      <th>std</th>\n",
       "      <td>8.757395</td>\n",
       "    </tr>\n",
       "    <tr>\n",
       "      <th>min</th>\n",
       "      <td>1925.000000</td>\n",
       "    </tr>\n",
       "    <tr>\n",
       "      <th>25%</th>\n",
       "      <td>2013.000000</td>\n",
       "    </tr>\n",
       "    <tr>\n",
       "      <th>50%</th>\n",
       "      <td>2017.000000</td>\n",
       "    </tr>\n",
       "    <tr>\n",
       "      <th>75%</th>\n",
       "      <td>2018.000000</td>\n",
       "    </tr>\n",
       "    <tr>\n",
       "      <th>max</th>\n",
       "      <td>2021.000000</td>\n",
       "    </tr>\n",
       "  </tbody>\n",
       "</table>\n",
       "</div>"
      ],
      "text/plain": [
       "       release_year\n",
       "count   7787.000000\n",
       "mean    2013.932580\n",
       "std        8.757395\n",
       "min     1925.000000\n",
       "25%     2013.000000\n",
       "50%     2017.000000\n",
       "75%     2018.000000\n",
       "max     2021.000000"
      ]
     },
     "execution_count": 9,
     "metadata": {},
     "output_type": "execute_result"
    }
   ],
   "source": [
    "df.describe()"
   ]
  },
  {
   "cell_type": "markdown",
   "metadata": {
    "id": "mX1i52EeaiKh"
   },
   "source": [
    "Since only one column is numerical, seeing ***descriptive statistics is useless*** in this dataset."
   ]
  },
  {
   "cell_type": "markdown",
   "metadata": {
    "id": "Rgnh6yLPv_zW"
   },
   "source": [
    "### **Dropping Unnecessary Columns**"
   ]
  },
  {
   "cell_type": "code",
   "execution_count": 10,
   "metadata": {
    "colab": {
     "base_uri": "https://localhost:8080/",
     "height": 289
    },
    "executionInfo": {
     "elapsed": 57,
     "status": "ok",
     "timestamp": 1630409119027,
     "user": {
      "displayName": "Madhan Kumar",
      "photoUrl": "https://lh3.googleusercontent.com/a-/AOh14Ggl_slAEHKVMGQQJABBM1Z9XvAz_EJAJ_tM30Vzsi4=s64",
      "userId": "17555349262073666022"
     },
     "user_tz": -330
    },
    "id": "gATsa5lW2LmT",
    "outputId": "33f73f9e-8318-466c-aea1-bcc0736ac932"
   },
   "outputs": [
    {
     "data": {
      "text/html": [
       "<div>\n",
       "<style scoped>\n",
       "    .dataframe tbody tr th:only-of-type {\n",
       "        vertical-align: middle;\n",
       "    }\n",
       "\n",
       "    .dataframe tbody tr th {\n",
       "        vertical-align: top;\n",
       "    }\n",
       "\n",
       "    .dataframe thead th {\n",
       "        text-align: right;\n",
       "    }\n",
       "</style>\n",
       "<table border=\"1\" class=\"dataframe\">\n",
       "  <thead>\n",
       "    <tr style=\"text-align: right;\">\n",
       "      <th></th>\n",
       "      <th>type</th>\n",
       "      <th>title</th>\n",
       "      <th>director</th>\n",
       "      <th>country</th>\n",
       "      <th>date_added</th>\n",
       "      <th>release_year</th>\n",
       "      <th>rating</th>\n",
       "      <th>duration</th>\n",
       "      <th>listed_in</th>\n",
       "    </tr>\n",
       "  </thead>\n",
       "  <tbody>\n",
       "    <tr>\n",
       "      <th>5926</th>\n",
       "      <td>TV Show</td>\n",
       "      <td>Survivor</td>\n",
       "      <td>NaN</td>\n",
       "      <td>United States</td>\n",
       "      <td>November 15, 2020</td>\n",
       "      <td>2014</td>\n",
       "      <td>TV-14</td>\n",
       "      <td>2 Seasons</td>\n",
       "      <td>Reality TV</td>\n",
       "    </tr>\n",
       "    <tr>\n",
       "      <th>842</th>\n",
       "      <td>Movie</td>\n",
       "      <td>Berlin, I Love You</td>\n",
       "      <td>NaN</td>\n",
       "      <td>Germany</td>\n",
       "      <td>June 8, 2019</td>\n",
       "      <td>2019</td>\n",
       "      <td>R</td>\n",
       "      <td>120 min</td>\n",
       "      <td>Dramas, International Movies, Romantic Movies</td>\n",
       "    </tr>\n",
       "    <tr>\n",
       "      <th>843</th>\n",
       "      <td>Movie</td>\n",
       "      <td>Berserk: The Golden Age Arc I - The Egg of the...</td>\n",
       "      <td>Toshiyuki Kubooka</td>\n",
       "      <td>Japan</td>\n",
       "      <td>October 15, 2016</td>\n",
       "      <td>2012</td>\n",
       "      <td>TV-MA</td>\n",
       "      <td>77 min</td>\n",
       "      <td>Action &amp; Adventure, Anime Features, Internatio...</td>\n",
       "    </tr>\n",
       "    <tr>\n",
       "      <th>2832</th>\n",
       "      <td>TV Show</td>\n",
       "      <td>House of Cards</td>\n",
       "      <td>NaN</td>\n",
       "      <td>United States</td>\n",
       "      <td>November 2, 2018</td>\n",
       "      <td>2018</td>\n",
       "      <td>TV-MA</td>\n",
       "      <td>6 Seasons</td>\n",
       "      <td>TV Dramas, TV Thrillers</td>\n",
       "    </tr>\n",
       "    <tr>\n",
       "      <th>6868</th>\n",
       "      <td>Movie</td>\n",
       "      <td>The Sign of Venus</td>\n",
       "      <td>Dino Risi</td>\n",
       "      <td>Italy</td>\n",
       "      <td>November 13, 2020</td>\n",
       "      <td>1955</td>\n",
       "      <td>TV-14</td>\n",
       "      <td>97 min</td>\n",
       "      <td>Classic Movies, Comedies, Independent Movies</td>\n",
       "    </tr>\n",
       "  </tbody>\n",
       "</table>\n",
       "</div>"
      ],
      "text/plain": [
       "         type  ...                                          listed_in\n",
       "5926  TV Show  ...                                         Reality TV\n",
       "842     Movie  ...      Dramas, International Movies, Romantic Movies\n",
       "843     Movie  ...  Action & Adventure, Anime Features, Internatio...\n",
       "2832  TV Show  ...                            TV Dramas, TV Thrillers\n",
       "6868    Movie  ...       Classic Movies, Comedies, Independent Movies\n",
       "\n",
       "[5 rows x 9 columns]"
      ]
     },
     "execution_count": 10,
     "metadata": {},
     "output_type": "execute_result"
    }
   ],
   "source": [
    "df.drop(['show_id','cast','description'], axis= 1, inplace= True)\n",
    "df.sample(5)"
   ]
  },
  {
   "cell_type": "markdown",
   "metadata": {
    "id": "9CF2inTxbQnI"
   },
   "source": [
    "**Dropping \"show_id, cast, description\"**column because it not going to help us in the further analysis."
   ]
  },
  {
   "cell_type": "markdown",
   "metadata": {
    "id": "ozQ8UZzabdpw"
   },
   "source": [
    "### **Missing Values**"
   ]
  },
  {
   "cell_type": "code",
   "execution_count": 11,
   "metadata": {
    "colab": {
     "base_uri": "https://localhost:8080/"
    },
    "executionInfo": {
     "elapsed": 57,
     "status": "ok",
     "timestamp": 1630409119029,
     "user": {
      "displayName": "Madhan Kumar",
      "photoUrl": "https://lh3.googleusercontent.com/a-/AOh14Ggl_slAEHKVMGQQJABBM1Z9XvAz_EJAJ_tM30Vzsi4=s64",
      "userId": "17555349262073666022"
     },
     "user_tz": -330
    },
    "id": "rFkRSk1TuxH_",
    "outputId": "effb3cd1-4642-4c0e-9a81-7d2d6f2fb55d"
   },
   "outputs": [
    {
     "data": {
      "text/plain": [
       "type               0\n",
       "title              0\n",
       "director        2389\n",
       "country          507\n",
       "date_added        10\n",
       "release_year       0\n",
       "rating             7\n",
       "duration           0\n",
       "listed_in          0\n",
       "dtype: int64"
      ]
     },
     "execution_count": 11,
     "metadata": {},
     "output_type": "execute_result"
    }
   ],
   "source": [
    "df.isna().sum()   # gives the sum of missing values in each column"
   ]
  },
  {
   "cell_type": "code",
   "execution_count": 12,
   "metadata": {
    "colab": {
     "base_uri": "https://localhost:8080/",
     "height": 286
    },
    "executionInfo": {
     "elapsed": 44,
     "status": "ok",
     "timestamp": 1630409119030,
     "user": {
      "displayName": "Madhan Kumar",
      "photoUrl": "https://lh3.googleusercontent.com/a-/AOh14Ggl_slAEHKVMGQQJABBM1Z9XvAz_EJAJ_tM30Vzsi4=s64",
      "userId": "17555349262073666022"
     },
     "user_tz": -330
    },
    "id": "C385B_P1G5Hl",
    "outputId": "c8f62ade-697c-4c64-f0e1-3cf94b930235"
   },
   "outputs": [
    {
     "data": {
      "image/png": "[encoded data removed]",
      "text/plain": [
       "<Figure size 792x288 with 1 Axes>"
      ]
     },
     "metadata": {
      "needs_background": "light"
     },
     "output_type": "display_data"
    }
   ],
   "source": [
    "plt.figure(figsize= [11,4])   # setting the figure size\n",
    "\n",
    "plt.bar(x=df.columns, height = df.isna().sum())   # barplot of missing values' columns\n",
    "\n",
    "plt.title(\"Bar Plot of Missing Values\", {'fontsize' : 17});    # giving the appropriate title"
   ]
  },
  {
   "cell_type": "markdown",
   "metadata": {
    "id": "2MWjKM1hbmyV"
   },
   "source": [
    "As you can see from the above figure, more values are ***missing*** in the **director's** columns, proceeding cast, country and date_added."
   ]
  },
  {
   "cell_type": "code",
   "execution_count": 13,
   "metadata": {
    "executionInfo": {
     "elapsed": 763,
     "status": "ok",
     "timestamp": 1630409119751,
     "user": {
      "displayName": "Madhan Kumar",
      "photoUrl": "https://lh3.googleusercontent.com/a-/AOh14Ggl_slAEHKVMGQQJABBM1Z9XvAz_EJAJ_tM30Vzsi4=s64",
      "userId": "17555349262073666022"
     },
     "user_tz": -330
    },
    "id": "_hkWwjT-C-JM"
   },
   "outputs": [],
   "source": [
    "# converting the datatypes of feature variables\n",
    "df = df.convert_dtypes()"
   ]
  },
  {
   "cell_type": "code",
   "execution_count": 14,
   "metadata": {
    "colab": {
     "base_uri": "https://localhost:8080/"
    },
    "executionInfo": {
     "elapsed": 169,
     "status": "ok",
     "timestamp": 1630409119752,
     "user": {
      "displayName": "Madhan Kumar",
      "photoUrl": "https://lh3.googleusercontent.com/a-/AOh14Ggl_slAEHKVMGQQJABBM1Z9XvAz_EJAJ_tM30Vzsi4=s64",
      "userId": "17555349262073666022"
     },
     "user_tz": -330
    },
    "id": "M7yxsjAE1tc9",
    "outputId": "1378252c-0564-4dac-ec32-5d6e30b7de06"
   },
   "outputs": [
    {
     "data": {
      "text/plain": [
       "0      2020-08-14\n",
       "1      2016-12-23\n",
       "2      2018-12-20\n",
       "3      2017-11-16\n",
       "4      2020-01-01\n",
       "          ...    \n",
       "7782   2020-10-19\n",
       "7783   2019-03-02\n",
       "7784   2020-09-25\n",
       "7785   2020-10-31\n",
       "7786   2020-03-01\n",
       "Name: date_added, Length: 7787, dtype: datetime64[ns]"
      ]
     },
     "execution_count": 14,
     "metadata": {},
     "output_type": "execute_result"
    }
   ],
   "source": [
    "df['date_added'] = pd.to_datetime(df['date_added']) # converting the datatype to datetime\n",
    "df['date_added']"
   ]
  },
  {
   "cell_type": "code",
   "execution_count": 15,
   "metadata": {
    "executionInfo": {
     "elapsed": 160,
     "status": "ok",
     "timestamp": 1630409119755,
     "user": {
      "displayName": "Madhan Kumar",
      "photoUrl": "https://lh3.googleusercontent.com/a-/AOh14Ggl_slAEHKVMGQQJABBM1Z9XvAz_EJAJ_tM30Vzsi4=s64",
      "userId": "17555349262073666022"
     },
     "user_tz": -330
    },
    "id": "yU0mZUqyFZMo"
   },
   "outputs": [],
   "source": [
    "df['type'] = df['type'].astype('category')  # converting the type to category\n",
    "df['country'] = df.country.astype('category') # converting the type to category"
   ]
  },
  {
   "cell_type": "code",
   "execution_count": 16,
   "metadata": {
    "colab": {
     "base_uri": "https://localhost:8080/"
    },
    "executionInfo": {
     "elapsed": 159,
     "status": "ok",
     "timestamp": 1630409119756,
     "user": {
      "displayName": "Madhan Kumar",
      "photoUrl": "https://lh3.googleusercontent.com/a-/AOh14Ggl_slAEHKVMGQQJABBM1Z9XvAz_EJAJ_tM30Vzsi4=s64",
      "userId": "17555349262073666022"
     },
     "user_tz": -330
    },
    "id": "s_9oOBr5FZI7",
    "outputId": "4d70075d-5cf4-46a2-dc02-c032d0910d65"
   },
   "outputs": [
    {
     "data": {
      "text/plain": [
       "type                  category\n",
       "title                   string\n",
       "director                string\n",
       "country               category\n",
       "date_added      datetime64[ns]\n",
       "release_year             Int64\n",
       "rating                  string\n",
       "duration                string\n",
       "listed_in               string\n",
       "dtype: object"
      ]
     },
     "execution_count": 16,
     "metadata": {},
     "output_type": "execute_result"
    }
   ],
   "source": [
    "df.dtypes # gives the datatypes of all variables"
   ]
  },
  {
   "cell_type": "code",
   "execution_count": 17,
   "metadata": {
    "executionInfo": {
     "elapsed": 140,
     "status": "ok",
     "timestamp": 1630409119760,
     "user": {
      "displayName": "Madhan Kumar",
      "photoUrl": "https://lh3.googleusercontent.com/a-/AOh14Ggl_slAEHKVMGQQJABBM1Z9XvAz_EJAJ_tM30Vzsi4=s64",
      "userId": "17555349262073666022"
     },
     "user_tz": -330
    },
    "id": "zVKHg9J6WhhA"
   },
   "outputs": [],
   "source": [
    "df[\"year\"] = df.date_added.dt.year  # adding \"year\" as a new column"
   ]
  },
  {
   "cell_type": "code",
   "execution_count": 18,
   "metadata": {
    "executionInfo": {
     "elapsed": 141,
     "status": "ok",
     "timestamp": 1630409119762,
     "user": {
      "displayName": "Madhan Kumar",
      "photoUrl": "https://lh3.googleusercontent.com/a-/AOh14Ggl_slAEHKVMGQQJABBM1Z9XvAz_EJAJ_tM30Vzsi4=s64",
      "userId": "17555349262073666022"
     },
     "user_tz": -330
    },
    "id": "71cwoZuXWhbB"
   },
   "outputs": [],
   "source": [
    "df[\"month\"] = df.date_added.dt.month  # adding \"month\" as a new column"
   ]
  },
  {
   "cell_type": "code",
   "execution_count": 19,
   "metadata": {
    "colab": {
     "base_uri": "https://localhost:8080/",
     "height": 289
    },
    "executionInfo": {
     "elapsed": 141,
     "status": "ok",
     "timestamp": 1630409119764,
     "user": {
      "displayName": "Madhan Kumar",
      "photoUrl": "https://lh3.googleusercontent.com/a-/AOh14Ggl_slAEHKVMGQQJABBM1Z9XvAz_EJAJ_tM30Vzsi4=s64",
      "userId": "17555349262073666022"
     },
     "user_tz": -330
    },
    "id": "WTewSb3vBbn6",
    "outputId": "12f50b04-e9ab-49bc-e2d3-0bf621ce9d8b"
   },
   "outputs": [
    {
     "data": {
      "text/html": [
       "<div>\n",
       "<style scoped>\n",
       "    .dataframe tbody tr th:only-of-type {\n",
       "        vertical-align: middle;\n",
       "    }\n",
       "\n",
       "    .dataframe tbody tr th {\n",
       "        vertical-align: top;\n",
       "    }\n",
       "\n",
       "    .dataframe thead th {\n",
       "        text-align: right;\n",
       "    }\n",
       "</style>\n",
       "<table border=\"1\" class=\"dataframe\">\n",
       "  <thead>\n",
       "    <tr style=\"text-align: right;\">\n",
       "      <th></th>\n",
       "      <th>type</th>\n",
       "      <th>title</th>\n",
       "      <th>director</th>\n",
       "      <th>country</th>\n",
       "      <th>date_added</th>\n",
       "      <th>release_year</th>\n",
       "      <th>rating</th>\n",
       "      <th>duration</th>\n",
       "      <th>listed_in</th>\n",
       "      <th>year</th>\n",
       "      <th>month</th>\n",
       "    </tr>\n",
       "  </thead>\n",
       "  <tbody>\n",
       "    <tr>\n",
       "      <th>0</th>\n",
       "      <td>TV Show</td>\n",
       "      <td>3%</td>\n",
       "      <td>&lt;NA&gt;</td>\n",
       "      <td>Brazil</td>\n",
       "      <td>2020-08-14</td>\n",
       "      <td>2020</td>\n",
       "      <td>TV-MA</td>\n",
       "      <td>4 Seasons</td>\n",
       "      <td>International TV Shows, TV Dramas, TV Sci-Fi &amp;...</td>\n",
       "      <td>2020.0</td>\n",
       "      <td>8.0</td>\n",
       "    </tr>\n",
       "    <tr>\n",
       "      <th>5</th>\n",
       "      <td>TV Show</td>\n",
       "      <td>46</td>\n",
       "      <td>Serdar Akar</td>\n",
       "      <td>Turkey</td>\n",
       "      <td>2017-07-01</td>\n",
       "      <td>2016</td>\n",
       "      <td>TV-MA</td>\n",
       "      <td>1 Season</td>\n",
       "      <td>International TV Shows, TV Dramas, TV Mysteries</td>\n",
       "      <td>2017.0</td>\n",
       "      <td>7.0</td>\n",
       "    </tr>\n",
       "    <tr>\n",
       "      <th>11</th>\n",
       "      <td>TV Show</td>\n",
       "      <td>1983</td>\n",
       "      <td>&lt;NA&gt;</td>\n",
       "      <td>Poland, United States</td>\n",
       "      <td>2018-11-30</td>\n",
       "      <td>2018</td>\n",
       "      <td>TV-MA</td>\n",
       "      <td>1 Season</td>\n",
       "      <td>Crime TV Shows, International TV Shows, TV Dramas</td>\n",
       "      <td>2018.0</td>\n",
       "      <td>11.0</td>\n",
       "    </tr>\n",
       "    <tr>\n",
       "      <th>12</th>\n",
       "      <td>TV Show</td>\n",
       "      <td>1994</td>\n",
       "      <td>Diego Enrique Osorno</td>\n",
       "      <td>Mexico</td>\n",
       "      <td>2019-05-17</td>\n",
       "      <td>2019</td>\n",
       "      <td>TV-MA</td>\n",
       "      <td>1 Season</td>\n",
       "      <td>Crime TV Shows, Docuseries, International TV S...</td>\n",
       "      <td>2019.0</td>\n",
       "      <td>5.0</td>\n",
       "    </tr>\n",
       "    <tr>\n",
       "      <th>16</th>\n",
       "      <td>TV Show</td>\n",
       "      <td>Feb-09</td>\n",
       "      <td>&lt;NA&gt;</td>\n",
       "      <td>NaN</td>\n",
       "      <td>2019-03-20</td>\n",
       "      <td>2018</td>\n",
       "      <td>TV-14</td>\n",
       "      <td>1 Season</td>\n",
       "      <td>International TV Shows, TV Dramas</td>\n",
       "      <td>2019.0</td>\n",
       "      <td>3.0</td>\n",
       "    </tr>\n",
       "  </tbody>\n",
       "</table>\n",
       "</div>"
      ],
      "text/plain": [
       "       type   title  ...    year month\n",
       "0   TV Show      3%  ...  2020.0   8.0\n",
       "5   TV Show      46  ...  2017.0   7.0\n",
       "11  TV Show    1983  ...  2018.0  11.0\n",
       "12  TV Show    1994  ...  2019.0   5.0\n",
       "16  TV Show  Feb-09  ...  2019.0   3.0\n",
       "\n",
       "[5 rows x 11 columns]"
      ]
     },
     "execution_count": 19,
     "metadata": {},
     "output_type": "execute_result"
    }
   ],
   "source": [
    "# splitting the dataframe with respect to TV shows and Movies\n",
    "df_tv_show = df[df.type == 'TV Show'] \n",
    "df_tv_show.head()"
   ]
  },
  {
   "cell_type": "code",
   "execution_count": 20,
   "metadata": {
    "colab": {
     "base_uri": "https://localhost:8080/",
     "height": 204
    },
    "executionInfo": {
     "elapsed": 139,
     "status": "ok",
     "timestamp": 1630409119765,
     "user": {
      "displayName": "Madhan Kumar",
      "photoUrl": "https://lh3.googleusercontent.com/a-/AOh14Ggl_slAEHKVMGQQJABBM1Z9XvAz_EJAJ_tM30Vzsi4=s64",
      "userId": "17555349262073666022"
     },
     "user_tz": -330
    },
    "id": "TFXfq6OwC4Nn",
    "outputId": "c5bff985-f263-4141-b313-2e100e97b923"
   },
   "outputs": [
    {
     "data": {
      "text/html": [
       "<div>\n",
       "<style scoped>\n",
       "    .dataframe tbody tr th:only-of-type {\n",
       "        vertical-align: middle;\n",
       "    }\n",
       "\n",
       "    .dataframe tbody tr th {\n",
       "        vertical-align: top;\n",
       "    }\n",
       "\n",
       "    .dataframe thead th {\n",
       "        text-align: right;\n",
       "    }\n",
       "</style>\n",
       "<table border=\"1\" class=\"dataframe\">\n",
       "  <thead>\n",
       "    <tr style=\"text-align: right;\">\n",
       "      <th></th>\n",
       "      <th>type</th>\n",
       "      <th>title</th>\n",
       "      <th>director</th>\n",
       "      <th>country</th>\n",
       "      <th>date_added</th>\n",
       "      <th>release_year</th>\n",
       "      <th>rating</th>\n",
       "      <th>duration</th>\n",
       "      <th>listed_in</th>\n",
       "      <th>year</th>\n",
       "      <th>month</th>\n",
       "    </tr>\n",
       "  </thead>\n",
       "  <tbody>\n",
       "    <tr>\n",
       "      <th>1</th>\n",
       "      <td>Movie</td>\n",
       "      <td>7:19</td>\n",
       "      <td>Jorge Michel Grau</td>\n",
       "      <td>Mexico</td>\n",
       "      <td>2016-12-23</td>\n",
       "      <td>2016</td>\n",
       "      <td>TV-MA</td>\n",
       "      <td>93 min</td>\n",
       "      <td>Dramas, International Movies</td>\n",
       "      <td>2016.0</td>\n",
       "      <td>12.0</td>\n",
       "    </tr>\n",
       "    <tr>\n",
       "      <th>2</th>\n",
       "      <td>Movie</td>\n",
       "      <td>23:59</td>\n",
       "      <td>Gilbert Chan</td>\n",
       "      <td>Singapore</td>\n",
       "      <td>2018-12-20</td>\n",
       "      <td>2011</td>\n",
       "      <td>R</td>\n",
       "      <td>78 min</td>\n",
       "      <td>Horror Movies, International Movies</td>\n",
       "      <td>2018.0</td>\n",
       "      <td>12.0</td>\n",
       "    </tr>\n",
       "    <tr>\n",
       "      <th>3</th>\n",
       "      <td>Movie</td>\n",
       "      <td>9</td>\n",
       "      <td>Shane Acker</td>\n",
       "      <td>United States</td>\n",
       "      <td>2017-11-16</td>\n",
       "      <td>2009</td>\n",
       "      <td>PG-13</td>\n",
       "      <td>80 min</td>\n",
       "      <td>Action &amp; Adventure, Independent Movies, Sci-Fi...</td>\n",
       "      <td>2017.0</td>\n",
       "      <td>11.0</td>\n",
       "    </tr>\n",
       "    <tr>\n",
       "      <th>4</th>\n",
       "      <td>Movie</td>\n",
       "      <td>21</td>\n",
       "      <td>Robert Luketic</td>\n",
       "      <td>United States</td>\n",
       "      <td>2020-01-01</td>\n",
       "      <td>2008</td>\n",
       "      <td>PG-13</td>\n",
       "      <td>123 min</td>\n",
       "      <td>Dramas</td>\n",
       "      <td>2020.0</td>\n",
       "      <td>1.0</td>\n",
       "    </tr>\n",
       "    <tr>\n",
       "      <th>6</th>\n",
       "      <td>Movie</td>\n",
       "      <td>122</td>\n",
       "      <td>Yasir Al Yasiri</td>\n",
       "      <td>Egypt</td>\n",
       "      <td>2020-06-01</td>\n",
       "      <td>2019</td>\n",
       "      <td>TV-MA</td>\n",
       "      <td>95 min</td>\n",
       "      <td>Horror Movies, International Movies</td>\n",
       "      <td>2020.0</td>\n",
       "      <td>6.0</td>\n",
       "    </tr>\n",
       "  </tbody>\n",
       "</table>\n",
       "</div>"
      ],
      "text/plain": [
       "    type  title  ...    year month\n",
       "1  Movie   7:19  ...  2016.0  12.0\n",
       "2  Movie  23:59  ...  2018.0  12.0\n",
       "3  Movie      9  ...  2017.0  11.0\n",
       "4  Movie     21  ...  2020.0   1.0\n",
       "6  Movie    122  ...  2020.0   6.0\n",
       "\n",
       "[5 rows x 11 columns]"
      ]
     },
     "execution_count": 20,
     "metadata": {},
     "output_type": "execute_result"
    }
   ],
   "source": [
    "df_movie = df[df.type == 'Movie']\n",
    "df_movie.head()"
   ]
  },
  {
   "cell_type": "code",
   "execution_count": 21,
   "metadata": {
    "colab": {
     "base_uri": "https://localhost:8080/"
    },
    "executionInfo": {
     "elapsed": 136,
     "status": "ok",
     "timestamp": 1630409119767,
     "user": {
      "displayName": "Madhan Kumar",
      "photoUrl": "https://lh3.googleusercontent.com/a-/AOh14Ggl_slAEHKVMGQQJABBM1Z9XvAz_EJAJ_tM30Vzsi4=s64",
      "userId": "17555349262073666022"
     },
     "user_tz": -330
    },
    "id": "ynqYI56gFZZw",
    "outputId": "96a5f4a8-bec4-436e-e426-515c87662ac6"
   },
   "outputs": [
    {
     "data": {
      "text/plain": [
       "0"
      ]
     },
     "execution_count": 21,
     "metadata": {},
     "output_type": "execute_result"
    }
   ],
   "source": [
    "# Finding the duplicate rows in the dataframe\n",
    "df.duplicated().sum()"
   ]
  },
  {
   "cell_type": "markdown",
   "metadata": {
    "id": "PfjhjFY5p3hP"
   },
   "source": [
    "There is ***no duplicated rows*** in the dataframe."
   ]
  },
  {
   "cell_type": "markdown",
   "metadata": {
    "id": "uwCOnAkn5kx6"
   },
   "source": [
    "## **Exploratory Analysis and Visualization**"
   ]
  },
  {
   "cell_type": "markdown",
   "metadata": {
    "id": "yyZHd936ZR9r"
   },
   "source": [
    "## Q1 : When Netflix started to Emerge?"
   ]
  },
  {
   "cell_type": "code",
   "execution_count": 22,
   "metadata": {
    "colab": {
     "base_uri": "https://localhost:8080/",
     "height": 295
    },
    "executionInfo": {
     "elapsed": 968,
     "status": "ok",
     "timestamp": 1630409120689,
     "user": {
      "displayName": "Madhan Kumar",
      "photoUrl": "https://lh3.googleusercontent.com/a-/AOh14Ggl_slAEHKVMGQQJABBM1Z9XvAz_EJAJ_tM30Vzsi4=s64",
      "userId": "17555349262073666022"
     },
     "user_tz": -330
    },
    "id": "_dqtArg7ZRmt",
    "outputId": "d2bb1a8b-9eab-4140-906c-6110cbabdebf"
   },
   "outputs": [
    {
     "data": {
      "image/png": "[encoded data removed]",
      "text/plain": [
       "<Figure size 648x288 with 1 Axes>"
      ]
     },
     "metadata": {
      "needs_background": "light"
     },
     "output_type": "display_data"
    }
   ],
   "source": [
    "plt.figure(figsize= [9, 4])   # setting the figure size\n",
    "\n",
    "sns.countplot(df.year)    # count plot of contents\n",
    "\n",
    "plt.title(\"Year-wise Content on Netflix\");    # setting the appropriate title"
   ]
  },
  {
   "cell_type": "markdown",
   "metadata": {
    "id": "NNFr3mMaeTVF"
   },
   "source": [
    "From the graph above, ***Netflix began to emerge in 2016, and then it continues to grow after that.***"
   ]
  },
  {
   "cell_type": "markdown",
   "metadata": {
    "id": "uk5xQ-KmdEgd"
   },
   "source": [
    "## Q2 : Which is more produced? Tv shows or Movies?"
   ]
  },
  {
   "cell_type": "code",
   "execution_count": 23,
   "metadata": {
    "colab": {
     "base_uri": "https://localhost:8080/"
    },
    "executionInfo": {
     "elapsed": 47,
     "status": "ok",
     "timestamp": 1630409120691,
     "user": {
      "displayName": "Madhan Kumar",
      "photoUrl": "https://lh3.googleusercontent.com/a-/AOh14Ggl_slAEHKVMGQQJABBM1Z9XvAz_EJAJ_tM30Vzsi4=s64",
      "userId": "17555349262073666022"
     },
     "user_tz": -330
    },
    "id": "j8EgGcLmXuHg",
    "outputId": "72fc4d10-7db4-46da-9983-af418837a30b"
   },
   "outputs": [
    {
     "data": {
      "text/plain": [
       "Movie      5377\n",
       "TV Show    2410\n",
       "Name: type, dtype: int64"
      ]
     },
     "execution_count": 23,
     "metadata": {},
     "output_type": "execute_result"
    }
   ],
   "source": [
    "df.type.value_counts()    # shows the count of each type"
   ]
  },
  {
   "cell_type": "code",
   "execution_count": 24,
   "metadata": {
    "colab": {
     "base_uri": "https://localhost:8080/",
     "height": 323
    },
    "executionInfo": {
     "elapsed": 37,
     "status": "ok",
     "timestamp": 1630409120693,
     "user": {
      "displayName": "Madhan Kumar",
      "photoUrl": "https://lh3.googleusercontent.com/a-/AOh14Ggl_slAEHKVMGQQJABBM1Z9XvAz_EJAJ_tM30Vzsi4=s64",
      "userId": "17555349262073666022"
     },
     "user_tz": -330
    },
    "id": "P_ZIeO-6N_Xk",
    "outputId": "ccbf711c-68dd-4016-d766-beaba6f50dc1"
   },
   "outputs": [
    {
     "data": {
      "image/png": "[encoded data removed]",
      "text/plain": [
       "<Figure size 720x360 with 1 Axes>"
      ]
     },
     "metadata": {},
     "output_type": "display_data"
    }
   ],
   "source": [
    "plt.figure(figsize= [10, 5])    # setting the figure size\n",
    "\n",
    "plt.pie(df.type.value_counts(), autopct= '%1.2f%%', labels= df.type.value_counts().index, radius= 1.2, labeldistance= None, colors= sns.color_palette(\"Set2\"));    # pie-chart of results\n",
    "\n",
    "plt.legend(loc= \"upper right\")    # giving the legend\n",
    "\n",
    "plt.title(\"Which is more produced ?\", {'fontsize' : 17});   # setting the appropriate title"
   ]
  },
  {
   "cell_type": "markdown",
   "metadata": {
    "id": "FgLgkhIZxaHS"
   },
   "source": [
    "As seen from the Pie-Chart, ***Movies are mostly produced.***"
   ]
  },
  {
   "cell_type": "markdown",
   "metadata": {
    "id": "mLc2h-r9Ha_T"
   },
   "source": [
    "## Q3 : When Netflix started producing Tv Shows?"
   ]
  },
  {
   "cell_type": "code",
   "execution_count": 25,
   "metadata": {
    "colab": {
     "base_uri": "https://localhost:8080/",
     "height": 299
    },
    "executionInfo": {
     "elapsed": 37,
     "status": "ok",
     "timestamp": 1630409120695,
     "user": {
      "displayName": "Madhan Kumar",
      "photoUrl": "https://lh3.googleusercontent.com/a-/AOh14Ggl_slAEHKVMGQQJABBM1Z9XvAz_EJAJ_tM30Vzsi4=s64",
      "userId": "17555349262073666022"
     },
     "user_tz": -330
    },
    "id": "OxCzhRoVE_bI",
    "outputId": "9f2c3518-a0ac-4eb5-ca39-305953ddce59"
   },
   "outputs": [
    {
     "data": {
      "image/png": "[encoded data removed]",
      "text/plain": [
       "<Figure size 432x288 with 1 Axes>"
      ]
     },
     "metadata": {
      "needs_background": "light"
     },
     "output_type": "display_data"
    }
   ],
   "source": [
    "# creating a countplot of years in which tv shows are released\n",
    "sns.countplot(df_tv_show.year, palette='tab20');\n",
    "\n",
    "plt.title(\"Year-wise TV Show Releases\", {'fontsize' : 17});"
   ]
  },
  {
   "cell_type": "markdown",
   "metadata": {
    "id": "R0E-GynUjb5b"
   },
   "source": [
    "**So, Netflix started testing on TV Shows in the year 2013, as it showing good results then they gradually started producing more TV Shows in the following years.**"
   ]
  },
  {
   "cell_type": "markdown",
   "metadata": {
    "id": "x71LG8oOcyAD"
   },
   "source": [
    "## Q4 : In which year, more films(and shows) got released?"
   ]
  },
  {
   "cell_type": "code",
   "execution_count": 26,
   "metadata": {
    "colab": {
     "base_uri": "https://localhost:8080/"
    },
    "executionInfo": {
     "elapsed": 38,
     "status": "ok",
     "timestamp": 1630409120698,
     "user": {
      "displayName": "Madhan Kumar",
      "photoUrl": "https://lh3.googleusercontent.com/a-/AOh14Ggl_slAEHKVMGQQJABBM1Z9XvAz_EJAJ_tM30Vzsi4=s64",
      "userId": "17555349262073666022"
     },
     "user_tz": -330
    },
    "id": "bSfaYAoj_C7j",
    "outputId": "c33012de-d508-4318-d0d5-fcf045e39bbc"
   },
   "outputs": [
    {
     "data": {
      "text/plain": [
       "2018    1121\n",
       "2017    1012\n",
       "2019     996\n",
       "2016     882\n",
       "2020     868\n",
       "        ... \n",
       "1947       1\n",
       "1959       1\n",
       "1964       1\n",
       "1966       1\n",
       "1925       1\n",
       "Name: release_year, Length: 73, dtype: Int64"
      ]
     },
     "execution_count": 26,
     "metadata": {},
     "output_type": "execute_result"
    }
   ],
   "source": [
    "df.release_year.value_counts()   # gives the no. of movies(and shows) released in each year"
   ]
  },
  {
   "cell_type": "code",
   "execution_count": 27,
   "metadata": {
    "colab": {
     "base_uri": "https://localhost:8080/",
     "height": 281
    },
    "executionInfo": {
     "elapsed": 1560,
     "status": "ok",
     "timestamp": 1630409122236,
     "user": {
      "displayName": "Madhan Kumar",
      "photoUrl": "https://lh3.googleusercontent.com/a-/AOh14Ggl_slAEHKVMGQQJABBM1Z9XvAz_EJAJ_tM30Vzsi4=s64",
      "userId": "17555349262073666022"
     },
     "user_tz": -330
    },
    "id": "HroqYWvFKLuz",
    "outputId": "721c0367-9be7-4b55-8fe2-5da4b15d0778"
   },
   "outputs": [
    {
     "data": {
      "image/png": "[encoded data removed]",
      "text/plain": [
       "<Figure size 648x288 with 1 Axes>"
      ]
     },
     "metadata": {},
     "output_type": "display_data"
    }
   ],
   "source": [
    "sns.set_style('darkgrid')   # set the background as dark grid\n",
    "\n",
    "colors = sns.color_palette('pastel')    # gives a light color for the bars\n",
    "\n",
    "plt.figure(figsize=[9,4])   # giving the required figure size \n",
    "\n",
    "plt.bar(df.release_year.sort_values().unique(), df.release_year.value_counts().sort_index(), color= colors[1])    # barplot of results\n",
    "\n",
    "plt.title(\"Year-wise Movies & Shows\");    # giving the appropriate title"
   ]
  },
  {
   "cell_type": "markdown",
   "metadata": {
    "id": "V1oxjtyFqKy0"
   },
   "source": [
    "The year **2018** had the ***highest number of movies and shows released.***"
   ]
  },
  {
   "cell_type": "markdown",
   "metadata": {
    "id": "h5W0ZawzhVSK"
   },
   "source": [
    "## Q5 : Which Genere Contents are mostly released ?"
   ]
  },
  {
   "cell_type": "code",
   "execution_count": 28,
   "metadata": {
    "colab": {
     "base_uri": "https://localhost:8080/"
    },
    "executionInfo": {
     "elapsed": 87,
     "status": "ok",
     "timestamp": 1630409122237,
     "user": {
      "displayName": "Madhan Kumar",
      "photoUrl": "https://lh3.googleusercontent.com/a-/AOh14Ggl_slAEHKVMGQQJABBM1Z9XvAz_EJAJ_tM30Vzsi4=s64",
      "userId": "17555349262073666022"
     },
     "user_tz": -330
    },
    "id": "5jrq735nBR-i",
    "outputId": "e38a83f9-9f67-4ff9-93e4-44b080c6899a"
   },
   "outputs": [
    {
     "data": {
      "text/plain": [
       "<StringArray>\n",
       "[                         'International TV Shows, TV Dramas, TV Sci-Fi & Fantasy',\n",
       "                                                    'Dramas, International Movies',\n",
       "                                             'Horror Movies, International Movies',\n",
       "                        'Action & Adventure, Independent Movies, Sci-Fi & Fantasy',\n",
       "                                                                          'Dramas',\n",
       "                                 'International TV Shows, TV Dramas, TV Mysteries',\n",
       "                                  'Horror Movies, International Movies, Thrillers',\n",
       "                                                               'Dramas, Thrillers',\n",
       "                               'Crime TV Shows, International TV Shows, TV Dramas',\n",
       "                              'Crime TV Shows, Docuseries, International TV Shows',\n",
       " ...\n",
       "                                    'Classic & Cult TV, Crime TV Shows, TV Dramas',\n",
       "                                                        'TV Horror, Teen TV Shows',\n",
       "                                           'Reality TV, Spanish-Language TV Shows',\n",
       "                                'Action & Adventure, Documentaries, Sports Movies',\n",
       "                          'Anime Features, International Movies, Sci-Fi & Fantasy',\n",
       "                                                         'LGBTQ Movies, Thrillers',\n",
       "                                               'Action & Adventure, Sports Movies',\n",
       "                             'International Movies, LGBTQ Movies, Romantic Movies',\n",
       "                                       \"Kids' TV, Reality TV, Science & Nature TV\",\n",
       " 'International TV Shows, Spanish-Language TV Shows, Stand-Up Comedy & Talk Shows']\n",
       "Length: 492, dtype: string"
      ]
     },
     "execution_count": 28,
     "metadata": {},
     "output_type": "execute_result"
    }
   ],
   "source": [
    "df.listed_in.unique()   # seeing the unique values in genere"
   ]
  },
  {
   "cell_type": "code",
   "execution_count": 29,
   "metadata": {
    "colab": {
     "base_uri": "https://localhost:8080/"
    },
    "executionInfo": {
     "elapsed": 71,
     "status": "ok",
     "timestamp": 1630409122239,
     "user": {
      "displayName": "Madhan Kumar",
      "photoUrl": "https://lh3.googleusercontent.com/a-/AOh14Ggl_slAEHKVMGQQJABBM1Z9XvAz_EJAJ_tM30Vzsi4=s64",
      "userId": "17555349262073666022"
     },
     "user_tz": -330
    },
    "id": "rXSqi57-BfnY",
    "outputId": "3691f6b1-cc61-4d3b-ae5f-23a13026fbfc"
   },
   "outputs": [
    {
     "data": {
      "text/plain": [
       "[' International TV Shows, TV Dramas, TV Sci-Fi &...',\n",
       " '                      Dramas, International Movies',\n",
       " '               Horror Movies, International Movies',\n",
       " ' Action & Adventure, Independent Movies, Sci-Fi...',\n",
       " '                                            Dramas',\n",
       " '   International TV Shows, TV Dramas, TV Mysteries']"
      ]
     },
     "execution_count": 29,
     "metadata": {},
     "output_type": "execute_result"
    }
   ],
   "source": [
    "l = df.listed_in.to_string(index= False)    # converting the Series to a string\n",
    "\n",
    "list_string = l.splitlines()    # spliting it with new line characters\n",
    "list_string[0:6]"
   ]
  },
  {
   "cell_type": "code",
   "execution_count": 30,
   "metadata": {
    "colab": {
     "base_uri": "https://localhost:8080/"
    },
    "executionInfo": {
     "elapsed": 63,
     "status": "ok",
     "timestamp": 1630409122240,
     "user": {
      "displayName": "Madhan Kumar",
      "photoUrl": "https://lh3.googleusercontent.com/a-/AOh14Ggl_slAEHKVMGQQJABBM1Z9XvAz_EJAJ_tM30Vzsi4=s64",
      "userId": "17555349262073666022"
     },
     "user_tz": -330
    },
    "id": "0FAqeUVKB_Ff",
    "outputId": "3b0f8f77-3bbd-4b6c-efca-92fa27397898"
   },
   "outputs": [
    {
     "data": {
      "text/plain": [
       "[' International TV Shows',\n",
       " 'TV Dramas',\n",
       " 'TV Sci-Fi &...',\n",
       " '                      Dramas',\n",
       " 'International Movies',\n",
       " '               Horror Movies']"
      ]
     },
     "execution_count": 30,
     "metadata": {},
     "output_type": "execute_result"
    }
   ],
   "source": [
    "# separating each genere in a movie by comma separator\n",
    "genere_list = []\n",
    "for x in list_string :\n",
    "  genere_list.extend(x.split(sep=', '))\n",
    "\n",
    "genere_list[0:6]"
   ]
  },
  {
   "cell_type": "code",
   "execution_count": 31,
   "metadata": {
    "colab": {
     "base_uri": "https://localhost:8080/"
    },
    "executionInfo": {
     "elapsed": 52,
     "status": "ok",
     "timestamp": 1630409122241,
     "user": {
      "displayName": "Madhan Kumar",
      "photoUrl": "https://lh3.googleusercontent.com/a-/AOh14Ggl_slAEHKVMGQQJABBM1Z9XvAz_EJAJ_tM30Vzsi4=s64",
      "userId": "17555349262073666022"
     },
     "user_tz": -330
    },
    "id": "H7gRpmExCNOW",
    "outputId": "9235ee9a-7412-4970-f000-fa1c959d2b21"
   },
   "outputs": [
    {
     "data": {
      "text/plain": [
       "0        International TV Shows\n",
       "1                     TV Dramas\n",
       "2                TV Sci-Fi &...\n",
       "3                        Dramas\n",
       "4          International Movies\n",
       "                  ...          \n",
       "16990              Music & M...\n",
       "16991    International TV Shows\n",
       "16992                Reality TV\n",
       "16993             Documentaries\n",
       "16994          Music & Musicals\n",
       "Length: 16995, dtype: object"
      ]
     },
     "execution_count": 31,
     "metadata": {},
     "output_type": "execute_result"
    }
   ],
   "source": [
    "# removing the trailing spaces in each genere\n",
    "generes = []\n",
    "\n",
    "for genere in genere_list :\n",
    "  generes.append(str.lstrip(genere))\n",
    "\n",
    "# converting the list into pandas Series\n",
    "Genere = pd.Series(generes) \n",
    "Genere"
   ]
  },
  {
   "cell_type": "code",
   "execution_count": 32,
   "metadata": {
    "colab": {
     "base_uri": "https://localhost:8080/"
    },
    "executionInfo": {
     "elapsed": 41,
     "status": "ok",
     "timestamp": 1630409122243,
     "user": {
      "displayName": "Madhan Kumar",
      "photoUrl": "https://lh3.googleusercontent.com/a-/AOh14Ggl_slAEHKVMGQQJABBM1Z9XvAz_EJAJ_tM30Vzsi4=s64",
      "userId": "17555349262073666022"
     },
     "user_tz": -330
    },
    "id": "ULnGmajR221E",
    "outputId": "fe3c182a-1131-40ab-9740-c536cfbce330"
   },
   "outputs": [
    {
     "name": "stdout",
     "output_type": "stream",
     "text": [
      "TV Shows Generes : \n",
      " 0     International TV Shows\n",
      "1                  TV Dramas\n",
      "2             TV Sci-Fi &...\n",
      "11    International TV Shows\n",
      "12                 TV Dramas\n",
      "dtype: object \n",
      "\n",
      "Movies Generes : \n",
      " 3                  Dramas\n",
      "4    International Movies\n",
      "5           Horror Movies\n",
      "6    International Movies\n",
      "7      Action & Adventure\n",
      "dtype: object\n"
     ]
    }
   ],
   "source": [
    "# Now, splitting it with respect to Movies and Tv shows\n",
    "Genere_TV = Genere[Genere.str.contains(\"TV\", case= False)]\n",
    "print(\"TV Shows Generes : \\n\", Genere_TV.head(), \"\\n\")\n",
    "\n",
    "Genere_Movie = Genere[~Genere.isin(Genere_TV)]\n",
    "print(\"Movies Generes : \\n\", Genere_Movie.head())"
   ]
  },
  {
   "cell_type": "code",
   "execution_count": 33,
   "metadata": {
    "colab": {
     "base_uri": "https://localhost:8080/",
     "height": 402
    },
    "executionInfo": {
     "elapsed": 31,
     "status": "ok",
     "timestamp": 1630409122245,
     "user": {
      "displayName": "Madhan Kumar",
      "photoUrl": "https://lh3.googleusercontent.com/a-/AOh14Ggl_slAEHKVMGQQJABBM1Z9XvAz_EJAJ_tM30Vzsi4=s64",
      "userId": "17555349262073666022"
     },
     "user_tz": -330
    },
    "id": "3F9fGdrpeIpc",
    "outputId": "007c4abc-6f7c-4bc8-9c20-143f7a761d77"
   },
   "outputs": [
    {
     "data": {
      "image/png": "[encoded data removed]",
      "text/plain": [
       "<Figure size 468x360 with 1 Axes>"
      ]
     },
     "metadata": {},
     "output_type": "display_data"
    }
   ],
   "source": [
    "# visualizing the Movie Generes with a Pie-chart\n",
    "plt.figure(figsize= [6.5, 5])\n",
    "\n",
    "plt.pie(Genere_Movie.value_counts().head(15),  \n",
    "        labels= Genere_Movie.value_counts().index[0:15],\n",
    "        radius= 1.5, \n",
    "        colors= sns.set_palette('tab20c', n_colors= 15),\n",
    "        labeldistance= 1.1, \n",
    "        explode= [0.05 for x in range(15)], \n",
    "        autopct= '%1.2f%%');\n",
    "\n",
    "plt.title(\"Movie Generes\", {'fontsize' : 25, 'color' : 'brown', 'fontweight' : 20});"
   ]
  },
  {
   "cell_type": "markdown",
   "metadata": {
    "id": "Rg6tDz3_Amat"
   },
   "source": [
    "**Mostly produced movie generes** are \n",
    "- International Movies\n",
    "- Dramas\n",
    "- Comedies\n",
    "- Documentaries\n",
    "- Action & Adventure"
   ]
  },
  {
   "cell_type": "code",
   "execution_count": 34,
   "metadata": {
    "colab": {
     "base_uri": "https://localhost:8080/",
     "height": 388
    },
    "executionInfo": {
     "elapsed": 29,
     "status": "ok",
     "timestamp": 1630409122246,
     "user": {
      "displayName": "Madhan Kumar",
      "photoUrl": "https://lh3.googleusercontent.com/a-/AOh14Ggl_slAEHKVMGQQJABBM1Z9XvAz_EJAJ_tM30Vzsi4=s64",
      "userId": "17555349262073666022"
     },
     "user_tz": -330
    },
    "id": "pKlbxZ5Ilhym",
    "outputId": "fd8271b0-b3bb-41df-92b3-394f53f2558e"
   },
   "outputs": [
    {
     "data": {
      "image/png": "[encoded data removed]",
      "text/plain": [
       "<Figure size 468x360 with 1 Axes>"
      ]
     },
     "metadata": {},
     "output_type": "display_data"
    }
   ],
   "source": [
    "# visualizing the TV Shows Generes with a Pie-chart\n",
    "plt.figure(figsize= [6.5, 5])\n",
    "\n",
    "plt.pie(Genere_TV.value_counts().head(15),  \n",
    "        labels= Genere_TV.value_counts().index[0:15],\n",
    "        radius= 1.5, \n",
    "        colors= sns.set_palette('tab20c', n_colors= 15),\n",
    "        labeldistance= 1.1, \n",
    "        explode= [0.05 for x in range(15)], \n",
    "        autopct= '%1.2f%%');\n",
    "        \n",
    "plt.title(\"Tv Shows Generes\", {'fontsize' : 25, 'color' : 'brown', 'fontweight' : 20});"
   ]
  },
  {
   "cell_type": "markdown",
   "metadata": {
    "id": "xSbXgSx1B997"
   },
   "source": [
    "**Mostly produced Tv Show generes** are \n",
    "- International TV Shows\n",
    "- TV Dramas\n",
    "- Crime Shows\n",
    "- Kids' Shows\n",
    "- TV Comedies"
   ]
  },
  {
   "cell_type": "markdown",
   "metadata": {
    "id": "IhH9KnqTR63B"
   },
   "source": [
    "## Q6 : What's the Common Duration of the Contents ?"
   ]
  },
  {
   "cell_type": "code",
   "execution_count": 35,
   "metadata": {
    "executionInfo": {
     "elapsed": 28,
     "status": "ok",
     "timestamp": 1630409122247,
     "user": {
      "displayName": "Madhan Kumar",
      "photoUrl": "https://lh3.googleusercontent.com/a-/AOh14Ggl_slAEHKVMGQQJABBM1Z9XvAz_EJAJ_tM30Vzsi4=s64",
      "userId": "17555349262073666022"
     },
     "user_tz": -330
    },
    "id": "7Kf9U9IupQmz"
   },
   "outputs": [],
   "source": [
    "# duration of tv shows\n",
    "duration_TV = df_tv_show[df_tv_show.duration.str.contains('season*', case= False )]['duration']"
   ]
  },
  {
   "cell_type": "code",
   "execution_count": 36,
   "metadata": {
    "executionInfo": {
     "elapsed": 28,
     "status": "ok",
     "timestamp": 1630409122248,
     "user": {
      "displayName": "Madhan Kumar",
      "photoUrl": "https://lh3.googleusercontent.com/a-/AOh14Ggl_slAEHKVMGQQJABBM1Z9XvAz_EJAJ_tM30Vzsi4=s64",
      "userId": "17555349262073666022"
     },
     "user_tz": -330
    },
    "id": "kvk-CRWVpbpk"
   },
   "outputs": [],
   "source": [
    "# duration of movies\n",
    "duration_Movie = df_movie[df_movie.duration.str.contains('min', case= False)]['duration']\n",
    "\n",
    "duration_Movie = duration_Movie.str.replace(' min', '')\n",
    "duration_Movie = duration_Movie.astype('int')"
   ]
  },
  {
   "cell_type": "code",
   "execution_count": 37,
   "metadata": {
    "colab": {
     "base_uri": "https://localhost:8080/",
     "height": 394
    },
    "executionInfo": {
     "elapsed": 889,
     "status": "ok",
     "timestamp": 1630409123110,
     "user": {
      "displayName": "Madhan Kumar",
      "photoUrl": "https://lh3.googleusercontent.com/a-/AOh14Ggl_slAEHKVMGQQJABBM1Z9XvAz_EJAJ_tM30Vzsi4=s64",
      "userId": "17555349262073666022"
     },
     "user_tz": -330
    },
    "id": "em_6K1JerDke",
    "outputId": "3bf133d1-06b4-4164-a840-afbf91452721"
   },
   "outputs": [
    {
     "data": {
      "image/png": "[encoded data removed]",
      "text/plain": [
       "<Figure size 504x432 with 1 Axes>"
      ]
     },
     "metadata": {},
     "output_type": "display_data"
    }
   ],
   "source": [
    "# histogram of movies' runtime\n",
    "plt.figure(figsize= [7,6])\n",
    "\n",
    "plt.xticks(np.arange(0,241,30));\n",
    "\n",
    "plt.hist(duration_Movie, bins= np.arange(0,241,30), color= sns.color_palette('deep')[4])\n",
    "\n",
    "plt.title(\"Distribution of Movie Runtime\", {'fontsize' : 17});"
   ]
  },
  {
   "cell_type": "markdown",
   "metadata": {
    "id": "RwHoUSwGB4J7"
   },
   "source": [
    "**So, from the above histogram, most films(2666 films) in Netflix have 90-120 minutes runtime.**"
   ]
  },
  {
   "cell_type": "code",
   "execution_count": 38,
   "metadata": {
    "colab": {
     "base_uri": "https://localhost:8080/",
     "height": 354
    },
    "executionInfo": {
     "elapsed": 42,
     "status": "ok",
     "timestamp": 1630409123113,
     "user": {
      "displayName": "Madhan Kumar",
      "photoUrl": "https://lh3.googleusercontent.com/a-/AOh14Ggl_slAEHKVMGQQJABBM1Z9XvAz_EJAJ_tM30Vzsi4=s64",
      "userId": "17555349262073666022"
     },
     "user_tz": -330
    },
    "id": "Jxm0LYTIFErB",
    "outputId": "e632c625-ed54-461a-a6a0-9265cb493a4a"
   },
   "outputs": [
    {
     "data": {
      "image/png": "[encoded data removed]",
      "text/plain": [
       "<Figure size 504x360 with 1 Axes>"
      ]
     },
     "metadata": {},
     "output_type": "display_data"
    }
   ],
   "source": [
    "# countplot of tv shows' seasons\n",
    "plt.figure(figsize=[7,5])\n",
    "\n",
    "sns.countplot(y=duration_TV, palette= 'bright')\n",
    "\n",
    "plt.title(\"Seasons of Each Show\", {'fontsize' : 17});"
   ]
  },
  {
   "cell_type": "markdown",
   "metadata": {
    "id": "jEoVKb49Dr7c"
   },
   "source": [
    "It's clearly seen from the plot that ***most TV Shows in Netflix is of 1 Season.***"
   ]
  },
  {
   "cell_type": "markdown",
   "metadata": {
    "id": "W23uvfSWez5w"
   },
   "source": [
    "## Q7 : Which country movies and shows does Netflix have most ?"
   ]
  },
  {
   "cell_type": "code",
   "execution_count": 39,
   "metadata": {
    "colab": {
     "base_uri": "https://localhost:8080/"
    },
    "executionInfo": {
     "elapsed": 40,
     "status": "ok",
     "timestamp": 1630409123115,
     "user": {
      "displayName": "Madhan Kumar",
      "photoUrl": "https://lh3.googleusercontent.com/a-/AOh14Ggl_slAEHKVMGQQJABBM1Z9XvAz_EJAJ_tM30Vzsi4=s64",
      "userId": "17555349262073666022"
     },
     "user_tz": -330
    },
    "id": "qp_dbz8We1QT",
    "outputId": "4837d486-0283-49bf-c9a2-b397e9ffb3a6"
   },
   "outputs": [
    {
     "data": {
      "text/plain": [
       "United States     2555\n",
       "India              923\n",
       "United Kingdom     397\n",
       "Japan              226\n",
       "South Korea        183\n",
       "Canada             177\n",
       "Spain              134\n",
       "France             115\n",
       "Egypt              101\n",
       "Mexico             100\n",
       "Name: country, dtype: int64"
      ]
     },
     "execution_count": 39,
     "metadata": {},
     "output_type": "execute_result"
    }
   ],
   "source": [
    "# top 10 countries contents count\n",
    "df.country.value_counts().head(10)"
   ]
  },
  {
   "cell_type": "code",
   "execution_count": 40,
   "metadata": {
    "colab": {
     "base_uri": "https://localhost:8080/",
     "height": 340
    },
    "executionInfo": {
     "elapsed": 27,
     "status": "ok",
     "timestamp": 1630409123117,
     "user": {
      "displayName": "Madhan Kumar",
      "photoUrl": "https://lh3.googleusercontent.com/a-/AOh14Ggl_slAEHKVMGQQJABBM1Z9XvAz_EJAJ_tM30Vzsi4=s64",
      "userId": "17555349262073666022"
     },
     "user_tz": -330
    },
    "id": "lIdba_ZufAF2",
    "outputId": "7586499b-956f-44dd-e59a-33449fa7b2a1"
   },
   "outputs": [
    {
     "data": {
      "image/png": "[encoded data removed]",
      "text/plain": [
       "<Figure size 756x360 with 1 Axes>"
      ]
     },
     "metadata": {},
     "output_type": "display_data"
    }
   ],
   "source": [
    "# visualizing the results\n",
    "plt.figure(figsize=[10.5,5])\n",
    "\n",
    "plt.bar(x= df.country.value_counts().index[0:10], height=df.country.value_counts().head(10), color= colors[0])\n",
    "\n",
    "plt.title(\"Top 10 Country-wise Contents on Netflix\", {'fontsize' : 17});"
   ]
  },
  {
   "cell_type": "markdown",
   "metadata": {
    "id": "W6Z2qjwHKb5W"
   },
   "source": [
    "It's obvious from the plot that ***Netflix has more United States Contents*** followed by India, UK, Japan, etc., "
   ]
  },
  {
   "cell_type": "markdown",
   "metadata": {
    "id": "kB3Mqkw86nwI"
   },
   "source": [
    "## **Inferences and Conclusion**"
   ]
  },
  {
   "cell_type": "markdown",
   "metadata": {
    "id": "h6cq3ysP6sfx"
   },
   "source": [
    "1. Netflix started to emerge in 2016.\n",
    "2. Movies are more produced than TV Shows.\n",
    "3. Netflix started producing TV Shows on 2013.\n",
    "4. More Contents are released in the year 2018 than any other year.\n",
    "5. International Contents and Dramas are mostly produced in both Movies and TV Shows.\n",
    "6. Maximum films have a runtime of 90-120 minutes and many TV Shows are  of 1 season length.\n",
    "7. United States Contents are more in Netflix comparing to other countries."
   ]
  },
  {
   "cell_type": "code",
   "execution_count": 41,
   "metadata": {
    "executionInfo": {
     "elapsed": 350,
     "status": "ok",
     "timestamp": 1630409183313,
     "user": {
      "displayName": "Madhan Kumar",
      "photoUrl": "https://lh3.googleusercontent.com/a-/AOh14Ggl_slAEHKVMGQQJABBM1Z9XvAz_EJAJ_tM30Vzsi4=s64",
      "userId": "17555349262073666022"
     },
     "user_tz": -330
    },
    "id": "MFdkbzk39aWR"
   },
   "outputs": [],
   "source": [
    "import jovian"
   ]
  },
  {
   "cell_type": "code",
   "execution_count": null,
   "metadata": {
    "id": "kYkp0SLe9czD"
   },
   "outputs": [],
   "source": [
    "jovian.commit()"
   ]
  }
 ],
 "metadata": {
  "colab": {
   "collapsed_sections": [],
   "name": "Netflix_data_analysis.ipynb",
   "provenance": []
  },
  "language_info": {
   "name": "python"
  }
 },
 "nbformat": 4,
 "nbformat_minor": 0
}